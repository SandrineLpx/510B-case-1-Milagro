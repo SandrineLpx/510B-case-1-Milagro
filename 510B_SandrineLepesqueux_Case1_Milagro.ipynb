{
  "nbformat": 4,
  "nbformat_minor": 0,
  "metadata": {
    "colab": {
      "provenance": [],
      "toc_visible": true,
      "mount_file_id": "1DLsBYop0sdUZqKjV5R_T_JH4QHtyiEc9",
      "authorship_tag": "ABX9TyNH46jFs0IX9c9hpasbzt6y"
    },
    "kernelspec": {
      "name": "python3",
      "display_name": "Python 3"
    },
    "language_info": {
      "name": "python"
    }
  },
  "cells": [
    {
      "cell_type": "markdown",
      "source": [
        "# Milagro: Predicting Store Profitability at a Fast-Casual Restaurant Chain"
      ],
      "metadata": {
        "id": "hRFzDmEzHOeU"
      }
    },
    {
      "cell_type": "code",
      "execution_count": null,
      "metadata": {
        "id": "IHCuU3BE8GWh"
      },
      "outputs": [],
      "source": [
        "import pandas as pd\n",
        "import numpy as np\n",
        "import seaborn as sns\n",
        "import statsmodels.formula.api as smf"
      ]
    },
    {
      "cell_type": "code",
      "metadata": {
        "id": "a3d11e99"
      },
      "source": [
        "df_test = pd.read_csv('https://raw.githubusercontent.com/SandrineLpx/510B-case-1-Milagro/refs/heads/main/test_data.csv')\n",
        "df_train = pd.read_csv('https://raw.githubusercontent.com/SandrineLpx/510B-case-1-Milagro/refs/heads/main/train_data.csv')\n",
        "df_const = pd.read_csv('https://raw.githubusercontent.com/SandrineLpx/510B-case-1-Milagro/refs/heads/main/site_const_data-1.csv')\n"
      ],
      "execution_count": null,
      "outputs": []
    },
    {
      "cell_type": "code",
      "source": [
        "display(df_train.head())\n",
        "display(df_train.info())\n",
        "display(df_train.describe())"
      ],
      "metadata": {
        "colab": {
          "base_uri": "https://localhost:8080/",
          "height": 854
        },
        "id": "9JrJYktLA4Jx",
        "outputId": "544f8fde-473c-4123-8580-77253da9c607"
      },
      "execution_count": null,
      "outputs": [
        {
          "output_type": "display_data",
          "data": {
            "text/plain": [
              "   store.number  annual.profit state       agg.inc  sqft  col.grad     com60  \\\n",
              "0             1    414343.2017    AZ  4.255695e+07   292  0.235476  0.284834   \n",
              "1             2    514643.9619    AZ  7.125694e+07   399  0.039562  0.196429   \n",
              "2             3    443096.4316    AZ  9.766750e+07   666  0.215767  0.063625   \n",
              "3             4    495031.1367    AZ  5.555884e+07   862  0.136619  0.390704   \n",
              "4             5    962170.0304    AZ  1.336343e+08   724  0.259778  0.427308   \n",
              "\n",
              "        lci  nearcomp  nearmil  freestand    gini     housemed  \n",
              "0  5.989973         2      5.3          0  0.3889   951.061759  \n",
              "1  8.057567         6     13.1          0  0.2434   778.084732  \n",
              "2  6.267259         0     30.2          0  0.3179   844.555614  \n",
              "3  8.566326         0     29.4          0  0.4132  1420.138726  \n",
              "4  4.077841         6     10.1          0  0.4911  1164.426764  "
            ],
            "text/html": [
              "\n",
              "  <div id=\"df-a4de6320-c99b-4298-b738-816e9b8439f8\" class=\"colab-df-container\">\n",
              "    <div>\n",
              "<style scoped>\n",
              "    .dataframe tbody tr th:only-of-type {\n",
              "        vertical-align: middle;\n",
              "    }\n",
              "\n",
              "    .dataframe tbody tr th {\n",
              "        vertical-align: top;\n",
              "    }\n",
              "\n",
              "    .dataframe thead th {\n",
              "        text-align: right;\n",
              "    }\n",
              "</style>\n",
              "<table border=\"1\" class=\"dataframe\">\n",
              "  <thead>\n",
              "    <tr style=\"text-align: right;\">\n",
              "      <th></th>\n",
              "      <th>store.number</th>\n",
              "      <th>annual.profit</th>\n",
              "      <th>state</th>\n",
              "      <th>agg.inc</th>\n",
              "      <th>sqft</th>\n",
              "      <th>col.grad</th>\n",
              "      <th>com60</th>\n",
              "      <th>lci</th>\n",
              "      <th>nearcomp</th>\n",
              "      <th>nearmil</th>\n",
              "      <th>freestand</th>\n",
              "      <th>gini</th>\n",
              "      <th>housemed</th>\n",
              "    </tr>\n",
              "  </thead>\n",
              "  <tbody>\n",
              "    <tr>\n",
              "      <th>0</th>\n",
              "      <td>1</td>\n",
              "      <td>414343.2017</td>\n",
              "      <td>AZ</td>\n",
              "      <td>4.255695e+07</td>\n",
              "      <td>292</td>\n",
              "      <td>0.235476</td>\n",
              "      <td>0.284834</td>\n",
              "      <td>5.989973</td>\n",
              "      <td>2</td>\n",
              "      <td>5.3</td>\n",
              "      <td>0</td>\n",
              "      <td>0.3889</td>\n",
              "      <td>951.061759</td>\n",
              "    </tr>\n",
              "    <tr>\n",
              "      <th>1</th>\n",
              "      <td>2</td>\n",
              "      <td>514643.9619</td>\n",
              "      <td>AZ</td>\n",
              "      <td>7.125694e+07</td>\n",
              "      <td>399</td>\n",
              "      <td>0.039562</td>\n",
              "      <td>0.196429</td>\n",
              "      <td>8.057567</td>\n",
              "      <td>6</td>\n",
              "      <td>13.1</td>\n",
              "      <td>0</td>\n",
              "      <td>0.2434</td>\n",
              "      <td>778.084732</td>\n",
              "    </tr>\n",
              "    <tr>\n",
              "      <th>2</th>\n",
              "      <td>3</td>\n",
              "      <td>443096.4316</td>\n",
              "      <td>AZ</td>\n",
              "      <td>9.766750e+07</td>\n",
              "      <td>666</td>\n",
              "      <td>0.215767</td>\n",
              "      <td>0.063625</td>\n",
              "      <td>6.267259</td>\n",
              "      <td>0</td>\n",
              "      <td>30.2</td>\n",
              "      <td>0</td>\n",
              "      <td>0.3179</td>\n",
              "      <td>844.555614</td>\n",
              "    </tr>\n",
              "    <tr>\n",
              "      <th>3</th>\n",
              "      <td>4</td>\n",
              "      <td>495031.1367</td>\n",
              "      <td>AZ</td>\n",
              "      <td>5.555884e+07</td>\n",
              "      <td>862</td>\n",
              "      <td>0.136619</td>\n",
              "      <td>0.390704</td>\n",
              "      <td>8.566326</td>\n",
              "      <td>0</td>\n",
              "      <td>29.4</td>\n",
              "      <td>0</td>\n",
              "      <td>0.4132</td>\n",
              "      <td>1420.138726</td>\n",
              "    </tr>\n",
              "    <tr>\n",
              "      <th>4</th>\n",
              "      <td>5</td>\n",
              "      <td>962170.0304</td>\n",
              "      <td>AZ</td>\n",
              "      <td>1.336343e+08</td>\n",
              "      <td>724</td>\n",
              "      <td>0.259778</td>\n",
              "      <td>0.427308</td>\n",
              "      <td>4.077841</td>\n",
              "      <td>6</td>\n",
              "      <td>10.1</td>\n",
              "      <td>0</td>\n",
              "      <td>0.4911</td>\n",
              "      <td>1164.426764</td>\n",
              "    </tr>\n",
              "  </tbody>\n",
              "</table>\n",
              "</div>\n",
              "    <div class=\"colab-df-buttons\">\n",
              "\n",
              "  <div class=\"colab-df-container\">\n",
              "    <button class=\"colab-df-convert\" onclick=\"convertToInteractive('df-a4de6320-c99b-4298-b738-816e9b8439f8')\"\n",
              "            title=\"Convert this dataframe to an interactive table.\"\n",
              "            style=\"display:none;\">\n",
              "\n",
              "  <svg xmlns=\"http://www.w3.org/2000/svg\" height=\"24px\" viewBox=\"0 -960 960 960\">\n",
              "    <path d=\"M120-120v-720h720v720H120Zm60-500h600v-160H180v160Zm220 220h160v-160H400v160Zm0 220h160v-160H400v160ZM180-400h160v-160H180v160Zm440 0h160v-160H620v160ZM180-180h160v-160H180v160Zm440 0h160v-160H620v160Z\"/>\n",
              "  </svg>\n",
              "    </button>\n",
              "\n",
              "  <style>\n",
              "    .colab-df-container {\n",
              "      display:flex;\n",
              "      gap: 12px;\n",
              "    }\n",
              "\n",
              "    .colab-df-convert {\n",
              "      background-color: #E8F0FE;\n",
              "      border: none;\n",
              "      border-radius: 50%;\n",
              "      cursor: pointer;\n",
              "      display: none;\n",
              "      fill: #1967D2;\n",
              "      height: 32px;\n",
              "      padding: 0 0 0 0;\n",
              "      width: 32px;\n",
              "    }\n",
              "\n",
              "    .colab-df-convert:hover {\n",
              "      background-color: #E2EBFA;\n",
              "      box-shadow: 0px 1px 2px rgba(60, 64, 67, 0.3), 0px 1px 3px 1px rgba(60, 64, 67, 0.15);\n",
              "      fill: #174EA6;\n",
              "    }\n",
              "\n",
              "    .colab-df-buttons div {\n",
              "      margin-bottom: 4px;\n",
              "    }\n",
              "\n",
              "    [theme=dark] .colab-df-convert {\n",
              "      background-color: #3B4455;\n",
              "      fill: #D2E3FC;\n",
              "    }\n",
              "\n",
              "    [theme=dark] .colab-df-convert:hover {\n",
              "      background-color: #434B5C;\n",
              "      box-shadow: 0px 1px 3px 1px rgba(0, 0, 0, 0.15);\n",
              "      filter: drop-shadow(0px 1px 2px rgba(0, 0, 0, 0.3));\n",
              "      fill: #FFFFFF;\n",
              "    }\n",
              "  </style>\n",
              "\n",
              "    <script>\n",
              "      const buttonEl =\n",
              "        document.querySelector('#df-a4de6320-c99b-4298-b738-816e9b8439f8 button.colab-df-convert');\n",
              "      buttonEl.style.display =\n",
              "        google.colab.kernel.accessAllowed ? 'block' : 'none';\n",
              "\n",
              "      async function convertToInteractive(key) {\n",
              "        const element = document.querySelector('#df-a4de6320-c99b-4298-b738-816e9b8439f8');\n",
              "        const dataTable =\n",
              "          await google.colab.kernel.invokeFunction('convertToInteractive',\n",
              "                                                    [key], {});\n",
              "        if (!dataTable) return;\n",
              "\n",
              "        const docLinkHtml = 'Like what you see? Visit the ' +\n",
              "          '<a target=\"_blank\" href=https://colab.research.google.com/notebooks/data_table.ipynb>data table notebook</a>'\n",
              "          + ' to learn more about interactive tables.';\n",
              "        element.innerHTML = '';\n",
              "        dataTable['output_type'] = 'display_data';\n",
              "        await google.colab.output.renderOutput(dataTable, element);\n",
              "        const docLink = document.createElement('div');\n",
              "        docLink.innerHTML = docLinkHtml;\n",
              "        element.appendChild(docLink);\n",
              "      }\n",
              "    </script>\n",
              "  </div>\n",
              "\n",
              "\n",
              "    <div id=\"df-bf82dd45-5f7c-45b6-9338-12933ac33736\">\n",
              "      <button class=\"colab-df-quickchart\" onclick=\"quickchart('df-bf82dd45-5f7c-45b6-9338-12933ac33736')\"\n",
              "                title=\"Suggest charts\"\n",
              "                style=\"display:none;\">\n",
              "\n",
              "<svg xmlns=\"http://www.w3.org/2000/svg\" height=\"24px\"viewBox=\"0 0 24 24\"\n",
              "     width=\"24px\">\n",
              "    <g>\n",
              "        <path d=\"M19 3H5c-1.1 0-2 .9-2 2v14c0 1.1.9 2 2 2h14c1.1 0 2-.9 2-2V5c0-1.1-.9-2-2-2zM9 17H7v-7h2v7zm4 0h-2V7h2v10zm4 0h-2v-4h2v4z\"/>\n",
              "    </g>\n",
              "</svg>\n",
              "      </button>\n",
              "\n",
              "<style>\n",
              "  .colab-df-quickchart {\n",
              "      --bg-color: #E8F0FE;\n",
              "      --fill-color: #1967D2;\n",
              "      --hover-bg-color: #E2EBFA;\n",
              "      --hover-fill-color: #174EA6;\n",
              "      --disabled-fill-color: #AAA;\n",
              "      --disabled-bg-color: #DDD;\n",
              "  }\n",
              "\n",
              "  [theme=dark] .colab-df-quickchart {\n",
              "      --bg-color: #3B4455;\n",
              "      --fill-color: #D2E3FC;\n",
              "      --hover-bg-color: #434B5C;\n",
              "      --hover-fill-color: #FFFFFF;\n",
              "      --disabled-bg-color: #3B4455;\n",
              "      --disabled-fill-color: #666;\n",
              "  }\n",
              "\n",
              "  .colab-df-quickchart {\n",
              "    background-color: var(--bg-color);\n",
              "    border: none;\n",
              "    border-radius: 50%;\n",
              "    cursor: pointer;\n",
              "    display: none;\n",
              "    fill: var(--fill-color);\n",
              "    height: 32px;\n",
              "    padding: 0;\n",
              "    width: 32px;\n",
              "  }\n",
              "\n",
              "  .colab-df-quickchart:hover {\n",
              "    background-color: var(--hover-bg-color);\n",
              "    box-shadow: 0 1px 2px rgba(60, 64, 67, 0.3), 0 1px 3px 1px rgba(60, 64, 67, 0.15);\n",
              "    fill: var(--button-hover-fill-color);\n",
              "  }\n",
              "\n",
              "  .colab-df-quickchart-complete:disabled,\n",
              "  .colab-df-quickchart-complete:disabled:hover {\n",
              "    background-color: var(--disabled-bg-color);\n",
              "    fill: var(--disabled-fill-color);\n",
              "    box-shadow: none;\n",
              "  }\n",
              "\n",
              "  .colab-df-spinner {\n",
              "    border: 2px solid var(--fill-color);\n",
              "    border-color: transparent;\n",
              "    border-bottom-color: var(--fill-color);\n",
              "    animation:\n",
              "      spin 1s steps(1) infinite;\n",
              "  }\n",
              "\n",
              "  @keyframes spin {\n",
              "    0% {\n",
              "      border-color: transparent;\n",
              "      border-bottom-color: var(--fill-color);\n",
              "      border-left-color: var(--fill-color);\n",
              "    }\n",
              "    20% {\n",
              "      border-color: transparent;\n",
              "      border-left-color: var(--fill-color);\n",
              "      border-top-color: var(--fill-color);\n",
              "    }\n",
              "    30% {\n",
              "      border-color: transparent;\n",
              "      border-left-color: var(--fill-color);\n",
              "      border-top-color: var(--fill-color);\n",
              "      border-right-color: var(--fill-color);\n",
              "    }\n",
              "    40% {\n",
              "      border-color: transparent;\n",
              "      border-right-color: var(--fill-color);\n",
              "      border-top-color: var(--fill-color);\n",
              "    }\n",
              "    60% {\n",
              "      border-color: transparent;\n",
              "      border-right-color: var(--fill-color);\n",
              "    }\n",
              "    80% {\n",
              "      border-color: transparent;\n",
              "      border-right-color: var(--fill-color);\n",
              "      border-bottom-color: var(--fill-color);\n",
              "    }\n",
              "    90% {\n",
              "      border-color: transparent;\n",
              "      border-bottom-color: var(--fill-color);\n",
              "    }\n",
              "  }\n",
              "</style>\n",
              "\n",
              "      <script>\n",
              "        async function quickchart(key) {\n",
              "          const quickchartButtonEl =\n",
              "            document.querySelector('#' + key + ' button');\n",
              "          quickchartButtonEl.disabled = true;  // To prevent multiple clicks.\n",
              "          quickchartButtonEl.classList.add('colab-df-spinner');\n",
              "          try {\n",
              "            const charts = await google.colab.kernel.invokeFunction(\n",
              "                'suggestCharts', [key], {});\n",
              "          } catch (error) {\n",
              "            console.error('Error during call to suggestCharts:', error);\n",
              "          }\n",
              "          quickchartButtonEl.classList.remove('colab-df-spinner');\n",
              "          quickchartButtonEl.classList.add('colab-df-quickchart-complete');\n",
              "        }\n",
              "        (() => {\n",
              "          let quickchartButtonEl =\n",
              "            document.querySelector('#df-bf82dd45-5f7c-45b6-9338-12933ac33736 button');\n",
              "          quickchartButtonEl.style.display =\n",
              "            google.colab.kernel.accessAllowed ? 'block' : 'none';\n",
              "        })();\n",
              "      </script>\n",
              "    </div>\n",
              "\n",
              "    </div>\n",
              "  </div>\n"
            ],
            "application/vnd.google.colaboratory.intrinsic+json": {
              "type": "dataframe",
              "summary": "{\n  \"name\": \"display(df_train\",\n  \"rows\": 5,\n  \"fields\": [\n    {\n      \"column\": \"store.number\",\n      \"properties\": {\n        \"dtype\": \"number\",\n        \"std\": 1,\n        \"min\": 1,\n        \"max\": 5,\n        \"num_unique_values\": 5,\n        \"samples\": [\n          2,\n          5,\n          3\n        ],\n        \"semantic_type\": \"\",\n        \"description\": \"\"\n      }\n    },\n    {\n      \"column\": \"annual.profit\",\n      \"properties\": {\n        \"dtype\": \"number\",\n        \"std\": 225127.5663249764,\n        \"min\": 414343.2017,\n        \"max\": 962170.0304,\n        \"num_unique_values\": 5,\n        \"samples\": [\n          514643.9619,\n          962170.0304,\n          443096.4316\n        ],\n        \"semantic_type\": \"\",\n        \"description\": \"\"\n      }\n    },\n    {\n      \"column\": \"state\",\n      \"properties\": {\n        \"dtype\": \"category\",\n        \"num_unique_values\": 1,\n        \"samples\": [\n          \"AZ\"\n        ],\n        \"semantic_type\": \"\",\n        \"description\": \"\"\n      }\n    },\n    {\n      \"column\": \"agg.inc\",\n      \"properties\": {\n        \"dtype\": \"number\",\n        \"std\": 36278369.023309104,\n        \"min\": 42556953.39,\n        \"max\": 133634294.2,\n        \"num_unique_values\": 5,\n        \"samples\": [\n          71256941.54\n        ],\n        \"semantic_type\": \"\",\n        \"description\": \"\"\n      }\n    },\n    {\n      \"column\": \"sqft\",\n      \"properties\": {\n        \"dtype\": \"number\",\n        \"std\": 236,\n        \"min\": 292,\n        \"max\": 862,\n        \"num_unique_values\": 5,\n        \"samples\": [\n          399\n        ],\n        \"semantic_type\": \"\",\n        \"description\": \"\"\n      }\n    },\n    {\n      \"column\": \"col.grad\",\n      \"properties\": {\n        \"dtype\": \"number\",\n        \"std\": 0.0898518785036976,\n        \"min\": 0.039561853,\n        \"max\": 0.25977792,\n        \"num_unique_values\": 5,\n        \"samples\": [\n          0.039561853\n        ],\n        \"semantic_type\": \"\",\n        \"description\": \"\"\n      }\n    },\n    {\n      \"column\": \"com60\",\n      \"properties\": {\n        \"dtype\": \"number\",\n        \"std\": 0.1479062907829207,\n        \"min\": 0.06362545,\n        \"max\": 0.427307905,\n        \"num_unique_values\": 5,\n        \"samples\": [\n          0.196428571\n        ],\n        \"semantic_type\": \"\",\n        \"description\": \"\"\n      }\n    },\n    {\n      \"column\": \"lci\",\n      \"properties\": {\n        \"dtype\": \"number\",\n        \"std\": 1.7912803763066942,\n        \"min\": 4.07784051,\n        \"max\": 8.566326315,\n        \"num_unique_values\": 5,\n        \"samples\": [\n          8.0575668\n        ],\n        \"semantic_type\": \"\",\n        \"description\": \"\"\n      }\n    },\n    {\n      \"column\": \"nearcomp\",\n      \"properties\": {\n        \"dtype\": \"number\",\n        \"std\": 3,\n        \"min\": 0,\n        \"max\": 6,\n        \"num_unique_values\": 3,\n        \"samples\": [\n          2\n        ],\n        \"semantic_type\": \"\",\n        \"description\": \"\"\n      }\n    },\n    {\n      \"column\": \"nearmil\",\n      \"properties\": {\n        \"dtype\": \"number\",\n        \"std\": 11.465033798467406,\n        \"min\": 5.3,\n        \"max\": 30.2,\n        \"num_unique_values\": 5,\n        \"samples\": [\n          13.1\n        ],\n        \"semantic_type\": \"\",\n        \"description\": \"\"\n      }\n    },\n    {\n      \"column\": \"freestand\",\n      \"properties\": {\n        \"dtype\": \"number\",\n        \"std\": 0,\n        \"min\": 0,\n        \"max\": 0,\n        \"num_unique_values\": 1,\n        \"samples\": [\n          0\n        ],\n        \"semantic_type\": \"\",\n        \"description\": \"\"\n      }\n    },\n    {\n      \"column\": \"gini\",\n      \"properties\": {\n        \"dtype\": \"number\",\n        \"std\": 0.09437502317880508,\n        \"min\": 0.2434,\n        \"max\": 0.4911,\n        \"num_unique_values\": 5,\n        \"samples\": [\n          0.2434\n        ],\n        \"semantic_type\": \"\",\n        \"description\": \"\"\n      }\n    },\n    {\n      \"column\": \"housemed\",\n      \"properties\": {\n        \"dtype\": \"number\",\n        \"std\": 261.8908543779641,\n        \"min\": 778.0847317,\n        \"max\": 1420.138726,\n        \"num_unique_values\": 5,\n        \"samples\": [\n          778.0847317\n        ],\n        \"semantic_type\": \"\",\n        \"description\": \"\"\n      }\n    }\n  ]\n}"
            }
          },
          "metadata": {}
        },
        {
          "output_type": "stream",
          "name": "stdout",
          "text": [
            "<class 'pandas.core.frame.DataFrame'>\n",
            "RangeIndex: 374 entries, 0 to 373\n",
            "Data columns (total 13 columns):\n",
            " #   Column         Non-Null Count  Dtype  \n",
            "---  ------         --------------  -----  \n",
            " 0   store.number   374 non-null    int64  \n",
            " 1   annual.profit  374 non-null    float64\n",
            " 2   state          374 non-null    object \n",
            " 3   agg.inc        374 non-null    float64\n",
            " 4   sqft           374 non-null    int64  \n",
            " 5   col.grad       374 non-null    float64\n",
            " 6   com60          374 non-null    float64\n",
            " 7   lci            374 non-null    float64\n",
            " 8   nearcomp       374 non-null    int64  \n",
            " 9   nearmil        374 non-null    float64\n",
            " 10  freestand      374 non-null    int64  \n",
            " 11  gini           374 non-null    float64\n",
            " 12  housemed       374 non-null    float64\n",
            "dtypes: float64(8), int64(4), object(1)\n",
            "memory usage: 38.1+ KB\n"
          ]
        },
        {
          "output_type": "display_data",
          "data": {
            "text/plain": [
              "None"
            ]
          },
          "metadata": {}
        },
        {
          "output_type": "display_data",
          "data": {
            "text/plain": [
              "       store.number  annual.profit       agg.inc         sqft    col.grad  \\\n",
              "count    374.000000   3.740000e+02  3.740000e+02   374.000000  374.000000   \n",
              "mean     187.500000   7.735204e+05  1.222069e+08   602.692513    0.235088   \n",
              "std      108.108742   4.468403e+05  1.153058e+08   205.219530    0.128779   \n",
              "min        1.000000   1.022288e+05  7.809335e+06   217.000000    0.017112   \n",
              "25%       94.250000   4.973337e+05  5.409382e+07   474.500000    0.136999   \n",
              "50%      187.500000   6.566799e+05  9.058616e+07   574.000000    0.219420   \n",
              "75%      280.750000   8.818421e+05  1.412333e+08   710.000000    0.312818   \n",
              "max      374.000000   3.293559e+06  8.806363e+08  2084.000000    0.689092   \n",
              "\n",
              "            com60         lci   nearcomp     nearmil   freestand        gini  \\\n",
              "count  374.000000  374.000000  374.00000  374.000000  374.000000  374.000000   \n",
              "mean     0.156977    7.607611    2.57754   15.001604    0.141711    0.497839   \n",
              "std      0.113618    1.516641    2.09125   12.593032    0.349221    0.133943   \n",
              "min      0.000000    1.103248    0.00000    0.000000    0.000000    0.161000   \n",
              "25%      0.072675    6.707498    1.00000    5.325000    0.000000    0.409100   \n",
              "50%      0.126033    7.794125    2.00000   11.700000    0.000000    0.504300   \n",
              "75%      0.219010    8.604602    4.00000   22.600000    0.000000    0.575825   \n",
              "max      0.577105   10.729450    7.00000   88.700000    1.000000    0.949400   \n",
              "\n",
              "          housemed  \n",
              "count   374.000000  \n",
              "mean   1230.947909  \n",
              "std     529.079868  \n",
              "min     165.034213  \n",
              "25%     862.808875  \n",
              "50%    1151.371574  \n",
              "75%    1496.533613  \n",
              "max    3668.943949  "
            ],
            "text/html": [
              "\n",
              "  <div id=\"df-faa8732c-675e-45c5-bf8d-39d0f179b7b9\" class=\"colab-df-container\">\n",
              "    <div>\n",
              "<style scoped>\n",
              "    .dataframe tbody tr th:only-of-type {\n",
              "        vertical-align: middle;\n",
              "    }\n",
              "\n",
              "    .dataframe tbody tr th {\n",
              "        vertical-align: top;\n",
              "    }\n",
              "\n",
              "    .dataframe thead th {\n",
              "        text-align: right;\n",
              "    }\n",
              "</style>\n",
              "<table border=\"1\" class=\"dataframe\">\n",
              "  <thead>\n",
              "    <tr style=\"text-align: right;\">\n",
              "      <th></th>\n",
              "      <th>store.number</th>\n",
              "      <th>annual.profit</th>\n",
              "      <th>agg.inc</th>\n",
              "      <th>sqft</th>\n",
              "      <th>col.grad</th>\n",
              "      <th>com60</th>\n",
              "      <th>lci</th>\n",
              "      <th>nearcomp</th>\n",
              "      <th>nearmil</th>\n",
              "      <th>freestand</th>\n",
              "      <th>gini</th>\n",
              "      <th>housemed</th>\n",
              "    </tr>\n",
              "  </thead>\n",
              "  <tbody>\n",
              "    <tr>\n",
              "      <th>count</th>\n",
              "      <td>374.000000</td>\n",
              "      <td>3.740000e+02</td>\n",
              "      <td>3.740000e+02</td>\n",
              "      <td>374.000000</td>\n",
              "      <td>374.000000</td>\n",
              "      <td>374.000000</td>\n",
              "      <td>374.000000</td>\n",
              "      <td>374.00000</td>\n",
              "      <td>374.000000</td>\n",
              "      <td>374.000000</td>\n",
              "      <td>374.000000</td>\n",
              "      <td>374.000000</td>\n",
              "    </tr>\n",
              "    <tr>\n",
              "      <th>mean</th>\n",
              "      <td>187.500000</td>\n",
              "      <td>7.735204e+05</td>\n",
              "      <td>1.222069e+08</td>\n",
              "      <td>602.692513</td>\n",
              "      <td>0.235088</td>\n",
              "      <td>0.156977</td>\n",
              "      <td>7.607611</td>\n",
              "      <td>2.57754</td>\n",
              "      <td>15.001604</td>\n",
              "      <td>0.141711</td>\n",
              "      <td>0.497839</td>\n",
              "      <td>1230.947909</td>\n",
              "    </tr>\n",
              "    <tr>\n",
              "      <th>std</th>\n",
              "      <td>108.108742</td>\n",
              "      <td>4.468403e+05</td>\n",
              "      <td>1.153058e+08</td>\n",
              "      <td>205.219530</td>\n",
              "      <td>0.128779</td>\n",
              "      <td>0.113618</td>\n",
              "      <td>1.516641</td>\n",
              "      <td>2.09125</td>\n",
              "      <td>12.593032</td>\n",
              "      <td>0.349221</td>\n",
              "      <td>0.133943</td>\n",
              "      <td>529.079868</td>\n",
              "    </tr>\n",
              "    <tr>\n",
              "      <th>min</th>\n",
              "      <td>1.000000</td>\n",
              "      <td>1.022288e+05</td>\n",
              "      <td>7.809335e+06</td>\n",
              "      <td>217.000000</td>\n",
              "      <td>0.017112</td>\n",
              "      <td>0.000000</td>\n",
              "      <td>1.103248</td>\n",
              "      <td>0.00000</td>\n",
              "      <td>0.000000</td>\n",
              "      <td>0.000000</td>\n",
              "      <td>0.161000</td>\n",
              "      <td>165.034213</td>\n",
              "    </tr>\n",
              "    <tr>\n",
              "      <th>25%</th>\n",
              "      <td>94.250000</td>\n",
              "      <td>4.973337e+05</td>\n",
              "      <td>5.409382e+07</td>\n",
              "      <td>474.500000</td>\n",
              "      <td>0.136999</td>\n",
              "      <td>0.072675</td>\n",
              "      <td>6.707498</td>\n",
              "      <td>1.00000</td>\n",
              "      <td>5.325000</td>\n",
              "      <td>0.000000</td>\n",
              "      <td>0.409100</td>\n",
              "      <td>862.808875</td>\n",
              "    </tr>\n",
              "    <tr>\n",
              "      <th>50%</th>\n",
              "      <td>187.500000</td>\n",
              "      <td>6.566799e+05</td>\n",
              "      <td>9.058616e+07</td>\n",
              "      <td>574.000000</td>\n",
              "      <td>0.219420</td>\n",
              "      <td>0.126033</td>\n",
              "      <td>7.794125</td>\n",
              "      <td>2.00000</td>\n",
              "      <td>11.700000</td>\n",
              "      <td>0.000000</td>\n",
              "      <td>0.504300</td>\n",
              "      <td>1151.371574</td>\n",
              "    </tr>\n",
              "    <tr>\n",
              "      <th>75%</th>\n",
              "      <td>280.750000</td>\n",
              "      <td>8.818421e+05</td>\n",
              "      <td>1.412333e+08</td>\n",
              "      <td>710.000000</td>\n",
              "      <td>0.312818</td>\n",
              "      <td>0.219010</td>\n",
              "      <td>8.604602</td>\n",
              "      <td>4.00000</td>\n",
              "      <td>22.600000</td>\n",
              "      <td>0.000000</td>\n",
              "      <td>0.575825</td>\n",
              "      <td>1496.533613</td>\n",
              "    </tr>\n",
              "    <tr>\n",
              "      <th>max</th>\n",
              "      <td>374.000000</td>\n",
              "      <td>3.293559e+06</td>\n",
              "      <td>8.806363e+08</td>\n",
              "      <td>2084.000000</td>\n",
              "      <td>0.689092</td>\n",
              "      <td>0.577105</td>\n",
              "      <td>10.729450</td>\n",
              "      <td>7.00000</td>\n",
              "      <td>88.700000</td>\n",
              "      <td>1.000000</td>\n",
              "      <td>0.949400</td>\n",
              "      <td>3668.943949</td>\n",
              "    </tr>\n",
              "  </tbody>\n",
              "</table>\n",
              "</div>\n",
              "    <div class=\"colab-df-buttons\">\n",
              "\n",
              "  <div class=\"colab-df-container\">\n",
              "    <button class=\"colab-df-convert\" onclick=\"convertToInteractive('df-faa8732c-675e-45c5-bf8d-39d0f179b7b9')\"\n",
              "            title=\"Convert this dataframe to an interactive table.\"\n",
              "            style=\"display:none;\">\n",
              "\n",
              "  <svg xmlns=\"http://www.w3.org/2000/svg\" height=\"24px\" viewBox=\"0 -960 960 960\">\n",
              "    <path d=\"M120-120v-720h720v720H120Zm60-500h600v-160H180v160Zm220 220h160v-160H400v160Zm0 220h160v-160H400v160ZM180-400h160v-160H180v160Zm440 0h160v-160H620v160ZM180-180h160v-160H180v160Zm440 0h160v-160H620v160Z\"/>\n",
              "  </svg>\n",
              "    </button>\n",
              "\n",
              "  <style>\n",
              "    .colab-df-container {\n",
              "      display:flex;\n",
              "      gap: 12px;\n",
              "    }\n",
              "\n",
              "    .colab-df-convert {\n",
              "      background-color: #E8F0FE;\n",
              "      border: none;\n",
              "      border-radius: 50%;\n",
              "      cursor: pointer;\n",
              "      display: none;\n",
              "      fill: #1967D2;\n",
              "      height: 32px;\n",
              "      padding: 0 0 0 0;\n",
              "      width: 32px;\n",
              "    }\n",
              "\n",
              "    .colab-df-convert:hover {\n",
              "      background-color: #E2EBFA;\n",
              "      box-shadow: 0px 1px 2px rgba(60, 64, 67, 0.3), 0px 1px 3px 1px rgba(60, 64, 67, 0.15);\n",
              "      fill: #174EA6;\n",
              "    }\n",
              "\n",
              "    .colab-df-buttons div {\n",
              "      margin-bottom: 4px;\n",
              "    }\n",
              "\n",
              "    [theme=dark] .colab-df-convert {\n",
              "      background-color: #3B4455;\n",
              "      fill: #D2E3FC;\n",
              "    }\n",
              "\n",
              "    [theme=dark] .colab-df-convert:hover {\n",
              "      background-color: #434B5C;\n",
              "      box-shadow: 0px 1px 3px 1px rgba(0, 0, 0, 0.15);\n",
              "      filter: drop-shadow(0px 1px 2px rgba(0, 0, 0, 0.3));\n",
              "      fill: #FFFFFF;\n",
              "    }\n",
              "  </style>\n",
              "\n",
              "    <script>\n",
              "      const buttonEl =\n",
              "        document.querySelector('#df-faa8732c-675e-45c5-bf8d-39d0f179b7b9 button.colab-df-convert');\n",
              "      buttonEl.style.display =\n",
              "        google.colab.kernel.accessAllowed ? 'block' : 'none';\n",
              "\n",
              "      async function convertToInteractive(key) {\n",
              "        const element = document.querySelector('#df-faa8732c-675e-45c5-bf8d-39d0f179b7b9');\n",
              "        const dataTable =\n",
              "          await google.colab.kernel.invokeFunction('convertToInteractive',\n",
              "                                                    [key], {});\n",
              "        if (!dataTable) return;\n",
              "\n",
              "        const docLinkHtml = 'Like what you see? Visit the ' +\n",
              "          '<a target=\"_blank\" href=https://colab.research.google.com/notebooks/data_table.ipynb>data table notebook</a>'\n",
              "          + ' to learn more about interactive tables.';\n",
              "        element.innerHTML = '';\n",
              "        dataTable['output_type'] = 'display_data';\n",
              "        await google.colab.output.renderOutput(dataTable, element);\n",
              "        const docLink = document.createElement('div');\n",
              "        docLink.innerHTML = docLinkHtml;\n",
              "        element.appendChild(docLink);\n",
              "      }\n",
              "    </script>\n",
              "  </div>\n",
              "\n",
              "\n",
              "    <div id=\"df-01e7fcd4-b476-4ecf-bf18-fcdcafa87ca1\">\n",
              "      <button class=\"colab-df-quickchart\" onclick=\"quickchart('df-01e7fcd4-b476-4ecf-bf18-fcdcafa87ca1')\"\n",
              "                title=\"Suggest charts\"\n",
              "                style=\"display:none;\">\n",
              "\n",
              "<svg xmlns=\"http://www.w3.org/2000/svg\" height=\"24px\"viewBox=\"0 0 24 24\"\n",
              "     width=\"24px\">\n",
              "    <g>\n",
              "        <path d=\"M19 3H5c-1.1 0-2 .9-2 2v14c0 1.1.9 2 2 2h14c1.1 0 2-.9 2-2V5c0-1.1-.9-2-2-2zM9 17H7v-7h2v7zm4 0h-2V7h2v10zm4 0h-2v-4h2v4z\"/>\n",
              "    </g>\n",
              "</svg>\n",
              "      </button>\n",
              "\n",
              "<style>\n",
              "  .colab-df-quickchart {\n",
              "      --bg-color: #E8F0FE;\n",
              "      --fill-color: #1967D2;\n",
              "      --hover-bg-color: #E2EBFA;\n",
              "      --hover-fill-color: #174EA6;\n",
              "      --disabled-fill-color: #AAA;\n",
              "      --disabled-bg-color: #DDD;\n",
              "  }\n",
              "\n",
              "  [theme=dark] .colab-df-quickchart {\n",
              "      --bg-color: #3B4455;\n",
              "      --fill-color: #D2E3FC;\n",
              "      --hover-bg-color: #434B5C;\n",
              "      --hover-fill-color: #FFFFFF;\n",
              "      --disabled-bg-color: #3B4455;\n",
              "      --disabled-fill-color: #666;\n",
              "  }\n",
              "\n",
              "  .colab-df-quickchart {\n",
              "    background-color: var(--bg-color);\n",
              "    border: none;\n",
              "    border-radius: 50%;\n",
              "    cursor: pointer;\n",
              "    display: none;\n",
              "    fill: var(--fill-color);\n",
              "    height: 32px;\n",
              "    padding: 0;\n",
              "    width: 32px;\n",
              "  }\n",
              "\n",
              "  .colab-df-quickchart:hover {\n",
              "    background-color: var(--hover-bg-color);\n",
              "    box-shadow: 0 1px 2px rgba(60, 64, 67, 0.3), 0 1px 3px 1px rgba(60, 64, 67, 0.15);\n",
              "    fill: var(--button-hover-fill-color);\n",
              "  }\n",
              "\n",
              "  .colab-df-quickchart-complete:disabled,\n",
              "  .colab-df-quickchart-complete:disabled:hover {\n",
              "    background-color: var(--disabled-bg-color);\n",
              "    fill: var(--disabled-fill-color);\n",
              "    box-shadow: none;\n",
              "  }\n",
              "\n",
              "  .colab-df-spinner {\n",
              "    border: 2px solid var(--fill-color);\n",
              "    border-color: transparent;\n",
              "    border-bottom-color: var(--fill-color);\n",
              "    animation:\n",
              "      spin 1s steps(1) infinite;\n",
              "  }\n",
              "\n",
              "  @keyframes spin {\n",
              "    0% {\n",
              "      border-color: transparent;\n",
              "      border-bottom-color: var(--fill-color);\n",
              "      border-left-color: var(--fill-color);\n",
              "    }\n",
              "    20% {\n",
              "      border-color: transparent;\n",
              "      border-left-color: var(--fill-color);\n",
              "      border-top-color: var(--fill-color);\n",
              "    }\n",
              "    30% {\n",
              "      border-color: transparent;\n",
              "      border-left-color: var(--fill-color);\n",
              "      border-top-color: var(--fill-color);\n",
              "      border-right-color: var(--fill-color);\n",
              "    }\n",
              "    40% {\n",
              "      border-color: transparent;\n",
              "      border-right-color: var(--fill-color);\n",
              "      border-top-color: var(--fill-color);\n",
              "    }\n",
              "    60% {\n",
              "      border-color: transparent;\n",
              "      border-right-color: var(--fill-color);\n",
              "    }\n",
              "    80% {\n",
              "      border-color: transparent;\n",
              "      border-right-color: var(--fill-color);\n",
              "      border-bottom-color: var(--fill-color);\n",
              "    }\n",
              "    90% {\n",
              "      border-color: transparent;\n",
              "      border-bottom-color: var(--fill-color);\n",
              "    }\n",
              "  }\n",
              "</style>\n",
              "\n",
              "      <script>\n",
              "        async function quickchart(key) {\n",
              "          const quickchartButtonEl =\n",
              "            document.querySelector('#' + key + ' button');\n",
              "          quickchartButtonEl.disabled = true;  // To prevent multiple clicks.\n",
              "          quickchartButtonEl.classList.add('colab-df-spinner');\n",
              "          try {\n",
              "            const charts = await google.colab.kernel.invokeFunction(\n",
              "                'suggestCharts', [key], {});\n",
              "          } catch (error) {\n",
              "            console.error('Error during call to suggestCharts:', error);\n",
              "          }\n",
              "          quickchartButtonEl.classList.remove('colab-df-spinner');\n",
              "          quickchartButtonEl.classList.add('colab-df-quickchart-complete');\n",
              "        }\n",
              "        (() => {\n",
              "          let quickchartButtonEl =\n",
              "            document.querySelector('#df-01e7fcd4-b476-4ecf-bf18-fcdcafa87ca1 button');\n",
              "          quickchartButtonEl.style.display =\n",
              "            google.colab.kernel.accessAllowed ? 'block' : 'none';\n",
              "        })();\n",
              "      </script>\n",
              "    </div>\n",
              "\n",
              "    </div>\n",
              "  </div>\n"
            ],
            "application/vnd.google.colaboratory.intrinsic+json": {
              "type": "dataframe",
              "summary": "{\n  \"name\": \"display(df_train\",\n  \"rows\": 8,\n  \"fields\": [\n    {\n      \"column\": \"store.number\",\n      \"properties\": {\n        \"dtype\": \"number\",\n        \"std\": 134.48675537725623,\n        \"min\": 1.0,\n        \"max\": 374.0,\n        \"num_unique_values\": 6,\n        \"samples\": [\n          374.0,\n          187.5,\n          280.75\n        ],\n        \"semantic_type\": \"\",\n        \"description\": \"\"\n      }\n    },\n    {\n      \"column\": \"annual.profit\",\n      \"properties\": {\n        \"dtype\": \"number\",\n        \"std\": 1040633.6036961604,\n        \"min\": 374.0,\n        \"max\": 3293558.681,\n        \"num_unique_values\": 8,\n        \"samples\": [\n          773520.4145475936,\n          656679.9135499999,\n          374.0\n        ],\n        \"semantic_type\": \"\",\n        \"description\": \"\"\n      }\n    },\n    {\n      \"column\": \"agg.inc\",\n      \"properties\": {\n        \"dtype\": \"number\",\n        \"std\": 289264388.35119677,\n        \"min\": 374.0,\n        \"max\": 880636265.1,\n        \"num_unique_values\": 8,\n        \"samples\": [\n          122206914.49910696,\n          90586158.49000001,\n          374.0\n        ],\n        \"semantic_type\": \"\",\n        \"description\": \"\"\n      }\n    },\n    {\n      \"column\": \"sqft\",\n      \"properties\": {\n        \"dtype\": \"number\",\n        \"std\": 604.7491269078333,\n        \"min\": 205.21952960802741,\n        \"max\": 2084.0,\n        \"num_unique_values\": 8,\n        \"samples\": [\n          602.692513368984,\n          574.0,\n          374.0\n        ],\n        \"semantic_type\": \"\",\n        \"description\": \"\"\n      }\n    },\n    {\n      \"column\": \"col.grad\",\n      \"properties\": {\n        \"dtype\": \"number\",\n        \"std\": 132.14127082646414,\n        \"min\": 0.017112018,\n        \"max\": 374.0,\n        \"num_unique_values\": 8,\n        \"samples\": [\n          0.23508803017379679,\n          0.219420304,\n          374.0\n        ],\n        \"semantic_type\": \"\",\n        \"description\": \"\"\n      }\n    },\n    {\n      \"column\": \"com60\",\n      \"properties\": {\n        \"dtype\": \"number\",\n        \"std\": 132.1651688387891,\n        \"min\": 0.0,\n        \"max\": 374.0,\n        \"num_unique_values\": 8,\n        \"samples\": [\n          0.1569772839331551,\n          0.126032805,\n          374.0\n        ],\n        \"semantic_type\": \"\",\n        \"description\": \"\"\n      }\n    },\n    {\n      \"column\": \"lci\",\n      \"properties\": {\n        \"dtype\": \"number\",\n        \"std\": 130.04679927300432,\n        \"min\": 1.103247775,\n        \"max\": 374.0,\n        \"num_unique_values\": 8,\n        \"samples\": [\n          7.607610683470588,\n          7.7941248325,\n          374.0\n        ],\n        \"semantic_type\": \"\",\n        \"description\": \"\"\n      }\n    },\n    {\n      \"column\": \"nearcomp\",\n      \"properties\": {\n        \"dtype\": \"number\",\n        \"std\": 131.303040802121,\n        \"min\": 0.0,\n        \"max\": 374.0,\n        \"num_unique_values\": 8,\n        \"samples\": [\n          2.5775401069518717,\n          2.0,\n          374.0\n        ],\n        \"semantic_type\": \"\",\n        \"description\": \"\"\n      }\n    },\n    {\n      \"column\": \"nearmil\",\n      \"properties\": {\n        \"dtype\": \"number\",\n        \"std\": 127.44829518958072,\n        \"min\": 0.0,\n        \"max\": 374.0,\n        \"num_unique_values\": 8,\n        \"samples\": [\n          15.001604278074867,\n          11.7,\n          374.0\n        ],\n        \"semantic_type\": \"\",\n        \"description\": \"\"\n      }\n    },\n    {\n      \"column\": \"freestand\",\n      \"properties\": {\n        \"dtype\": \"number\",\n        \"std\": 132.1541102667787,\n        \"min\": 0.0,\n        \"max\": 374.0,\n        \"num_unique_values\": 5,\n        \"samples\": [\n          0.14171122994652408,\n          1.0,\n          0.34922090542388645\n        ],\n        \"semantic_type\": \"\",\n        \"description\": \"\"\n      }\n    },\n    {\n      \"column\": \"gini\",\n      \"properties\": {\n        \"dtype\": \"number\",\n        \"std\": 132.06600324949267,\n        \"min\": 0.13394288919637146,\n        \"max\": 374.0,\n        \"num_unique_values\": 8,\n        \"samples\": [\n          0.49783930481283417,\n          0.5043,\n          374.0\n        ],\n        \"semantic_type\": \"\",\n        \"description\": \"\"\n      }\n    },\n    {\n      \"column\": \"housemed\",\n      \"properties\": {\n        \"dtype\": \"number\",\n        \"std\": 1102.0994352890625,\n        \"min\": 165.0342134,\n        \"max\": 3668.943949,\n        \"num_unique_values\": 8,\n        \"samples\": [\n          1230.947909228342,\n          1151.3715735,\n          374.0\n        ],\n        \"semantic_type\": \"\",\n        \"description\": \"\"\n      }\n    }\n  ]\n}"
            }
          },
          "metadata": {}
        }
      ]
    },
    {
      "cell_type": "markdown",
      "source": [
        "# 1. Dataset Preparation and Rationale"
      ],
      "metadata": {
        "id": "xi7o-CRXEdhq"
      }
    },
    {
      "cell_type": "markdown",
      "source": [
        "## Question 1"
      ],
      "metadata": {
        "id": "OFNcXs9BWJ7x"
      }
    },
    {
      "cell_type": "code",
      "source": [
        "# Training data % of the total data\n",
        "374/460"
      ],
      "metadata": {
        "colab": {
          "base_uri": "https://localhost:8080/"
        },
        "id": "2DfbyyvLFGxh",
        "outputId": "a622c5e3-625b-4b13-e895-addc7b9ffeed"
      },
      "execution_count": null,
      "outputs": [
        {
          "output_type": "execute_result",
          "data": {
            "text/plain": [
              "0.8130434782608695"
            ]
          },
          "metadata": {},
          "execution_count": 5
        }
      ]
    },
    {
      "cell_type": "markdown",
      "source": [
        "Kathleen's team split the data into training set (374 stores) and test set (85 stores) to prevent overfitting by testing on unseen data.\n",
        "\n",
        "a) Training data are ~81% of the total data\n",
        "\n",
        "b) The training set will be used for training the model and to fit the regression model. The testing set will be used for evaluating the model after training. This is important to show how well the model generalized the data it hasn;t seen before.\n",
        "It is important not to use the test set during model building to avoid prevent overfitting by testing on unseen data. Like this Kathleen's team can check if the model is truly capturing general patterns and not just memorizing the training data."
      ],
      "metadata": {
        "id": "N_RG7BWNFcxs"
      }
    },
    {
      "cell_type": "markdown",
      "source": [
        "#2. Kathleen's Original Model\n"
      ],
      "metadata": {
        "id": "PMUo-rYfH78c"
      }
    },
    {
      "cell_type": "markdown",
      "source": [
        "##Question 2"
      ],
      "metadata": {
        "id": "qekohShFWGxW"
      }
    },
    {
      "cell_type": "markdown",
      "source": [
        "Fit a linear regression model using the training data with the four variables:\n",
        "agg.inc, sqft, col.grad, and com60.\n",
        "\n",
        "(a) Write the complete linear regression equation for predicting annual store profitability\n",
        "from these four predictors. Your equation should be in the form:\n",
        "annual.profit = β0 + β1 × agg.inc + β2 × sqft + β3 × col.grad + β4 × com60"
      ],
      "metadata": {
        "id": "u7HmCfvKJupi"
      }
    },
    {
      "cell_type": "code",
      "source": [
        "# linear regression equation for predicting annual store profitability from these four predictors: agg.inc, sqft, col.grad, and com60.\n",
        "model_A = smf.ols(formula='Q(\"annual.profit\") ~ Q(\"agg.inc\") + sqft + Q(\"col.grad\") + com60', data = df_train) # Q() function (Q stands for \"Quote\") for column names with dots or special characters in statsmodels\n",
        "model_A_fit = model_A .fit()\n",
        "print(model_A_fit.summary())"
      ],
      "metadata": {
        "colab": {
          "base_uri": "https://localhost:8080/"
        },
        "id": "IafX2WyLIRCa",
        "outputId": "563e71fe-f350-40bd-ac03-62d6261ff581"
      },
      "execution_count": null,
      "outputs": [
        {
          "output_type": "stream",
          "name": "stdout",
          "text": [
            "                            OLS Regression Results                            \n",
            "==============================================================================\n",
            "Dep. Variable:     Q(\"annual.profit\")   R-squared:                       0.786\n",
            "Model:                            OLS   Adj. R-squared:                  0.784\n",
            "Method:                 Least Squares   F-statistic:                     339.1\n",
            "Date:                Sun, 12 Oct 2025   Prob (F-statistic):          3.73e-122\n",
            "Time:                        23:55:01   Log-Likelihood:                -5107.5\n",
            "No. Observations:                 374   AIC:                         1.022e+04\n",
            "Df Residuals:                     369   BIC:                         1.024e+04\n",
            "Df Model:                           4                                         \n",
            "Covariance Type:            nonrobust                                         \n",
            "=================================================================================\n",
            "                    coef    std err          t      P>|t|      [0.025      0.975]\n",
            "---------------------------------------------------------------------------------\n",
            "Intercept       8.36e+04   4.11e+04      2.035      0.043    2810.065    1.64e+05\n",
            "Q(\"agg.inc\")      0.0028      0.000     20.288      0.000       0.003       0.003\n",
            "sqft            383.3631     61.230      6.261      0.000     262.960     503.766\n",
            "Q(\"col.grad\")  3.468e+05   1.13e+05      3.069      0.002    1.25e+05    5.69e+05\n",
            "com60          2.183e+05   9.82e+04      2.222      0.027    2.51e+04    4.11e+05\n",
            "==============================================================================\n",
            "Omnibus:                       56.244   Durbin-Watson:                   2.108\n",
            "Prob(Omnibus):                  0.000   Jarque-Bera (JB):               96.491\n",
            "Skew:                           0.880   Prob(JB):                     1.11e-21\n",
            "Kurtosis:                       4.759   Cond. No.                     1.82e+09\n",
            "==============================================================================\n",
            "\n",
            "Notes:\n",
            "[1] Standard Errors assume that the covariance matrix of the errors is correctly specified.\n",
            "[2] The condition number is large, 1.82e+09. This might indicate that there are\n",
            "strong multicollinearity or other numerical problems.\n"
          ]
        }
      ]
    },
    {
      "cell_type": "markdown",
      "source": [
        "a) Based on result:\n",
        "\n",
        "annual.profit = 83600 + 0.0028 × agg.inc + 383.3631 × sqft + 346800 × col.grad + 218300 × com60\n",
        "\n",
        "- β₀ = 83600 (Intercept)\n",
        "- β₁ = 0.0028 (coefficient for agg.inc)\n",
        "- β₂ = 383.3631 (coefficient for sqft)\n",
        "- β₃ = 346800 (coefficient for col.grad)\n",
        "- β₄ = 218300 (coefficient for com60)"
      ],
      "metadata": {
        "id": "UzWDdCGpNnjd"
      }
    },
    {
      "cell_type": "markdown",
      "source": [
        "## Question 3\n",
        "\n",
        "Using the estimated regression model, what annual profitability is predicted\n",
        "for a Milagro store located in an area with:\n",
        "- Aggregate income (agg.inc) of $100,000,000\n",
        "- Store size (sqft) of 800 square feet\n",
        "- College graduate percentage (col.grad) of 0.30 (30%)\n",
        "- **Long** commute percentage (com60) of 0.10 (10%)"
      ],
      "metadata": {
        "id": "aFyYrgsOPV4t"
      }
    },
    {
      "cell_type": "code",
      "source": [
        "predicted_annual_profit = 83600 + 0.0028 * 100000000 + 383.3631 * 800 + 346800 * 0.3 + 218300 * 0.1\n",
        "predicted_annual_profit"
      ],
      "metadata": {
        "colab": {
          "base_uri": "https://localhost:8080/"
        },
        "id": "LHIfM7VzP0Kb",
        "outputId": "a36cf4a7-5389-4bd1-f12b-69fbb2b541a9"
      },
      "execution_count": null,
      "outputs": [
        {
          "output_type": "execute_result",
          "data": {
            "text/plain": [
              "796160.48"
            ]
          },
          "metadata": {},
          "execution_count": 7
        }
      ]
    },
    {
      "cell_type": "markdown",
      "source": [
        "The annual profitability predicted for a Milagro store located in such area is $ 796,160.48."
      ],
      "metadata": {
        "id": "88bVDdzNQYpY"
      }
    },
    {
      "cell_type": "markdown",
      "source": [
        "## Question 4\n",
        "\n",
        "a) R2 value on the training data\n",
        "\n",
        "From OLS Regression Results ouput,  R2 = 0.786 (R-squared: 0.786).\n",
        "It means that the model explains 78.6% o fthe variance in annual profit on the training data which is a strong fit.\n",
        "\n",
        "\n",
        "b) R2 value on the test data"
      ],
      "metadata": {
        "id": "ewVSQESDQ3M3"
      }
    },
    {
      "cell_type": "code",
      "source": [
        "# Make prediction on the test data and get annual.profit test values.\n",
        "\n",
        "# Training R²\n",
        "R2_train_A = model_A_fit.rsquared\n",
        "print(f\"\\nModel A Training R²: {R2_train_A:.4f}\")\n",
        "\n",
        "# Test R²\n",
        "y_test_pred_A = model_A_fit.predict(df_test)\n",
        "y_test = df_test['annual.profit']\n",
        "SSE_A = np.sum((y_test - y_test_pred_A)**2)\n",
        "SST = np.sum((y_test - df_train['annual.profit'].mean())**2)\n",
        "R2_test_A = 1 - SSE_A/SST\n",
        "print(f\"Model A Test R²: {R2_test_A:.4f}\")\n"
      ],
      "metadata": {
        "colab": {
          "base_uri": "https://localhost:8080/"
        },
        "id": "nq91qXkgRHKV",
        "outputId": "b8102afa-748b-4d0b-c728-6974ec275ef1"
      },
      "execution_count": null,
      "outputs": [
        {
          "output_type": "stream",
          "name": "stdout",
          "text": [
            "\n",
            "Model A Training R²: 0.7861\n",
            "Model A Test R²: 0.7201\n"
          ]
        }
      ]
    },
    {
      "cell_type": "markdown",
      "source": [
        "R2 value on the test data is 0.720 (72.0%), meaning 72% variance explained. The difference between the 2 models is 0.786 - 0.720 = 0.066, lower than 10% difference so it means that the model performs well on unseen data.\n"
      ],
      "metadata": {
        "id": "vZBBExpVUXmH"
      }
    },
    {
      "cell_type": "markdown",
      "source": [
        "## Question 5\n",
        "\n",
        "\n",
        "a) If the p-value < 0.05 then the variable is statistically significant. In this case ll four variables are statistically significant at the 5% level. Each predictors has a meaningful relationship with annual proit\n",
        "\n",
        "b) agg.inc has the smallest p-value (most statistically significant)\n",
        "\n",
        "Looking at just the p-value again, both agg.inc and sqft show p = 0.000 rounded. To determine which is smaller , we are looking at the t-statistic. Higher t-statistic = smaller p-value. So agg.inc has the smallest p-value.\n",
        "\n",
        "c) com60 has the largest p-value (0.027)\n",
        "\n"
      ],
      "metadata": {
        "id": "eUOP9vfDV6G7"
      }
    },
    {
      "cell_type": "markdown",
      "source": [
        "# 3. Exploratory Correlation Analysis"
      ],
      "metadata": {
        "id": "KXmcFefKZfwY"
      }
    },
    {
      "cell_type": "markdown",
      "source": [
        "## Question 6"
      ],
      "metadata": {
        "id": "eMcLqcxuZl7v"
      }
    },
    {
      "cell_type": "markdown",
      "source": [
        "Compute the correlation matrix for all numerical predictor variables (exclude\n",
        "store.number, annual.profit, and state).\n",
        "\n",
        "(a) The dataset now has 10 predictor variables: the 4 original variables plus 6 new\n",
        "variables. Identify the three pairs of variables with the strongest correlations\n",
        "(highest absolute values). Report the correlation coefficient for each pair."
      ],
      "metadata": {
        "id": "IGGDGmupZo_t"
      }
    },
    {
      "cell_type": "code",
      "source": [
        "df_train.info()"
      ],
      "metadata": {
        "colab": {
          "base_uri": "https://localhost:8080/"
        },
        "id": "EIckfigSy5ZB",
        "outputId": "be06bf31-43ac-4d17-84ad-5722f13f2fb9"
      },
      "execution_count": null,
      "outputs": [
        {
          "output_type": "stream",
          "name": "stdout",
          "text": [
            "<class 'pandas.core.frame.DataFrame'>\n",
            "RangeIndex: 374 entries, 0 to 373\n",
            "Data columns (total 13 columns):\n",
            " #   Column         Non-Null Count  Dtype  \n",
            "---  ------         --------------  -----  \n",
            " 0   store.number   374 non-null    int64  \n",
            " 1   annual.profit  374 non-null    float64\n",
            " 2   state          374 non-null    object \n",
            " 3   agg.inc        374 non-null    float64\n",
            " 4   sqft           374 non-null    int64  \n",
            " 5   col.grad       374 non-null    float64\n",
            " 6   com60          374 non-null    float64\n",
            " 7   lci            374 non-null    float64\n",
            " 8   nearcomp       374 non-null    int64  \n",
            " 9   nearmil        374 non-null    float64\n",
            " 10  freestand      374 non-null    int64  \n",
            " 11  gini           374 non-null    float64\n",
            " 12  housemed       374 non-null    float64\n",
            "dtypes: float64(8), int64(4), object(1)\n",
            "memory usage: 38.1+ KB\n"
          ]
        }
      ]
    },
    {
      "cell_type": "code",
      "source": [
        "# Select numerical predictor variables exlucing store.number, annual.profit and state\n",
        "predictor_cols = ['agg.inc', 'sqft', 'col.grad', 'com60', 'lci', 'nearcomp', 'nearmil', 'freestand', 'gini', 'housemed']\n",
        "correlation_matrix = df_train[predictor_cols].corr()\n",
        "print(correlation_matrix.round(3))"
      ],
      "metadata": {
        "colab": {
          "base_uri": "https://localhost:8080/"
        },
        "id": "6aKglEQhTzt-",
        "outputId": "a5543ecb-abba-4666-dc2f-a10bb207f459"
      },
      "execution_count": null,
      "outputs": [
        {
          "output_type": "stream",
          "name": "stdout",
          "text": [
            "           agg.inc   sqft  col.grad  com60    lci  nearcomp  nearmil  \\\n",
            "agg.inc      1.000  0.512     0.670 -0.239 -0.315    -0.148    0.160   \n",
            "sqft         0.512  1.000     0.353 -0.055 -0.300    -0.074    0.122   \n",
            "col.grad     0.670  0.353     1.000 -0.224 -0.314    -0.182    0.065   \n",
            "com60       -0.239 -0.055    -0.224  1.000 -0.004     0.025    0.038   \n",
            "lci         -0.315 -0.300    -0.314 -0.004  1.000     0.071   -0.115   \n",
            "nearcomp    -0.148 -0.074    -0.182  0.025  0.071     1.000   -0.110   \n",
            "nearmil      0.160  0.122     0.065  0.038 -0.115    -0.110    1.000   \n",
            "freestand    0.173  0.150     0.166 -0.032 -0.220     0.104    0.211   \n",
            "gini         0.069  0.111     0.001 -0.035 -0.105     0.112   -0.012   \n",
            "housemed     0.486  0.177     0.547 -0.106 -0.152    -0.175    0.032   \n",
            "\n",
            "           freestand   gini  housemed  \n",
            "agg.inc        0.173  0.069     0.486  \n",
            "sqft           0.150  0.111     0.177  \n",
            "col.grad       0.166  0.001     0.547  \n",
            "com60         -0.032 -0.035    -0.106  \n",
            "lci           -0.220 -0.105    -0.152  \n",
            "nearcomp       0.104  0.112    -0.175  \n",
            "nearmil        0.211 -0.012     0.032  \n",
            "freestand      1.000  0.020    -0.011  \n",
            "gini           0.020  1.000    -0.080  \n",
            "housemed      -0.011 -0.080     1.000  \n"
          ]
        }
      ]
    },
    {
      "cell_type": "code",
      "source": [
        "# Create heatmap\n",
        "import matplotlib.pyplot as plt\n",
        "\n",
        "plt.figure(figsize=(8, 8))\n",
        "sns.heatmap(correlation_matrix, annot=True, cmap='coolwarm', center=0, fmt='.2f', square=True, linewidths=0.5, cbar_kws={\"shrink\": 0.5})\n",
        "plt.title('Correlation Matrix of All Numerical Predictors', fontsize=12)\n",
        "plt.tight_layout()\n",
        "plt.show()"
      ],
      "metadata": {
        "colab": {
          "base_uri": "https://localhost:8080/",
          "height": 691
        },
        "id": "9wv5qXbVzwLi",
        "outputId": "44084a15-dc76-45d2-d1fc-1b7ab5a992a7"
      },
      "execution_count": null,
      "outputs": [
        {
          "output_type": "display_data",
          "data": {
            "text/plain": [
              "<Figure size 800x800 with 2 Axes>"
            ],
            "image/png": "[encoded data removed]"
          },
          "metadata": {}
        }
      ]
    },
    {
      "cell_type": "markdown",
      "source": [
        "The 3 pairs of variables with the strongest correlations are col.grad and housemed (0.55), col.grad and agg.inc (0.67), sqft and agg.inc (0.51).\n",
        "While col.grad, agg.inc and sqft are in the model, housemed was not.\n"
      ],
      "metadata": {
        "id": "z0eG0toW0ifg"
      }
    },
    {
      "cell_type": "markdown",
      "source": [
        "##Question 7\n",
        "7. Statistical significance of new variables: Build a regression model using ALL 10\n",
        "variables (the 4 original plus 6 new variables). Test the statistical significance of each\n",
        "variable at the 5% level (α = 0.05).\n",
        "2\n",
        "\n",
        "(a) Which of the 6 new variables (lci, nearcomp, nearmil, freestand, gini, housemed)\n",
        "are statistically significant?\n",
        "\n",
        "(b) Which of the new variables are NOT significant? What does this suggest about\n",
        "their usefulness in predicting store profitability?"
      ],
      "metadata": {
        "id": "Do4eFLe3wK0u"
      }
    },
    {
      "cell_type": "code",
      "source": [
        "# 7 regression model using 10 variables: 'agg.inc', 'sqft', 'col.grad', 'com60', 'lci', 'nearcomp', 'nearmil', 'freestand', 'gini', 'housemed'\n",
        "model_B = smf.ols(formula='Q(\"annual.profit\") ~ Q(\"agg.inc\") + sqft + Q(\"col.grad\") + com60 + lci + nearcomp + nearmil + freestand + gini + housemed', data = df_train)\n",
        "model_B_fit = model_B.fit()\n",
        "print(model_B_fit.summary())"
      ],
      "metadata": {
        "colab": {
          "base_uri": "https://localhost:8080/"
        },
        "id": "__GgA8hN0i4u",
        "outputId": "0aebd8b2-25c6-4bf3-9182-78b0b807cedf"
      },
      "execution_count": null,
      "outputs": [
        {
          "output_type": "stream",
          "name": "stdout",
          "text": [
            "                            OLS Regression Results                            \n",
            "==============================================================================\n",
            "Dep. Variable:     Q(\"annual.profit\")   R-squared:                       0.918\n",
            "Model:                            OLS   Adj. R-squared:                  0.916\n",
            "Method:                 Least Squares   F-statistic:                     406.1\n",
            "Date:                Sun, 12 Oct 2025   Prob (F-statistic):          2.74e-190\n",
            "Time:                        23:55:02   Log-Likelihood:                -4928.3\n",
            "No. Observations:                 374   AIC:                             9879.\n",
            "Df Residuals:                     363   BIC:                             9922.\n",
            "Df Model:                          10                                         \n",
            "Covariance Type:            nonrobust                                         \n",
            "=================================================================================\n",
            "                    coef    std err          t      P>|t|      [0.025      0.975]\n",
            "---------------------------------------------------------------------------------\n",
            "Intercept      1.279e+05    6.2e+04      2.062      0.040    5939.643     2.5e+05\n",
            "Q(\"agg.inc\")      0.0027   9.01e-05     29.854      0.000       0.003       0.003\n",
            "sqft            294.6956     39.086      7.540      0.000     217.832     371.559\n",
            "Q(\"col.grad\")  3.401e+05    7.7e+04      4.414      0.000    1.89e+05    4.92e+05\n",
            "com60          1.825e+05   6.19e+04      2.951      0.003    6.09e+04    3.04e+05\n",
            "lci           -1.737e+04   4893.497     -3.549      0.000    -2.7e+04   -7742.203\n",
            "nearcomp       3.131e+04   3360.382      9.317      0.000    2.47e+04    3.79e+04\n",
            "nearmil        2642.5113    558.423      4.732      0.000    1544.361    3740.662\n",
            "freestand      3.651e+05   2.07e+04     17.672      0.000    3.25e+05    4.06e+05\n",
            "gini           1.819e+04   5.14e+04      0.354      0.724   -8.29e+04    1.19e+05\n",
            "housemed        -15.0379     15.838     -0.949      0.343     -46.184      16.108\n",
            "==============================================================================\n",
            "Omnibus:                        7.389   Durbin-Watson:                   1.918\n",
            "Prob(Omnibus):                  0.025   Jarque-Bera (JB):                9.371\n",
            "Skew:                          -0.180   Prob(JB):                      0.00923\n",
            "Kurtosis:                       3.687   Cond. No.                     2.07e+09\n",
            "==============================================================================\n",
            "\n",
            "Notes:\n",
            "[1] Standard Errors assume that the covariance matrix of the errors is correctly specified.\n",
            "[2] The condition number is large, 2.07e+09. This might indicate that there are\n",
            "strong multicollinearity or other numerical problems.\n"
          ]
        }
      ]
    },
    {
      "cell_type": "markdown",
      "source": [
        "a) For statistical significance I am looking at the p-value < 0.05 = statistically significant. \"agg.inc\") + sqft + Q(\"col.grad\") + com60'\n",
        "In that case lci, nearcomp, nearmil, freestand are significly significant.\n",
        "\n",
        "b) However, gini with P-value=0.724 and housemed with P=0.343 (way above 0.05) are not significant. It means that income inequality and median house value variables do not help predict store profitability."
      ],
      "metadata": {
        "id": "6CpSHXOI7npK"
      }
    },
    {
      "cell_type": "markdown",
      "source": [
        "# 4. Model Comparison"
      ],
      "metadata": {
        "id": "OFHn29emwUk9"
      }
    },
    {
      "cell_type": "markdown",
      "source": [
        "##Question 8\n",
        "Fit and evaluate four models using the training data:\n",
        "\n",
        "Model A: Kathleen’s Original Model\n",
        "Variables: agg.inc, sqft, col.grad, com60\n",
        "\n",
        "Model B: Full Model\n",
        "Variables: All variables except store.number, annual.profit, and state\n",
        "\n",
        "Model C: Parsimonious Model\n",
        "• Build this model by removing variables that meet either of these criteria:\n",
        "- Variables that are NOT statistically significant at the 5% level (from Question 7).\n",
        "- Variables involved in pairs with absolute correlation > 0.70 (from Question\n",
        "6). For highly correlated pairs, keep the variable with stronger correlation to\n",
        "the outcome variable (annual.profit).\n",
        "\n",
        "Model D: Alternative Model\n",
        "- Start with the original 4 variables (agg.inc, sqft, col.grad, com60).\n",
        "- Add ONE variable from the 4 significant new variables identified in Question 7: lci, nearcomp, nearmil, freestand.\n",
        "- Test each of the 4 possible additions (one at a time) and choose the one that:\n",
        "  * Improves test R2 compared to Model A, and\n",
        "  * Maintains total profitability prediction ≥ $40 million."
      ],
      "metadata": {
        "id": "Rm85ZRdcwaL5"
      }
    },
    {
      "cell_type": "markdown",
      "source": [
        "###a) Model D - variable selection"
      ],
      "metadata": {
        "id": "_NJx2XspO0zu"
      }
    },
    {
      "cell_type": "code",
      "source": [
        "# Model C: Parsimonious Model\n",
        "# Remove gini and housemed (not significant)\n",
        "# Keep 8 variables: 'agg.inc', 'sqft', 'col.grad', 'com60', 'lci', 'nearcomp', 'nearmil', 'freestand'\n",
        "\n",
        "model_C = smf.ols(formula='Q(\"annual.profit\") ~ Q(\"agg.inc\") + sqft + Q(\"col.grad\") + com60 + lci + nearcomp + nearmil + freestand', data=df_train)\n",
        "model_C_fit = model_C.fit()"
      ],
      "metadata": {
        "id": "3YRg6ppj9xrv"
      },
      "execution_count": null,
      "outputs": []
    },
    {
      "cell_type": "code",
      "source": [
        "# Model D: Alternative Model\n",
        "# Test adding each of: lci, nearcomp, nearmil, freestand\n",
        "\n",
        "new_variables = ['lci', 'nearcomp', 'nearmil', 'freestand']\n",
        "results_D = {}\n",
        "\n",
        "for var in new_variables:\n",
        "    print(f\"\\n--- Testing: Original 4 + {var} ---\")\n",
        "\n",
        "    formula = f'Q(\"annual.profit\") ~ Q(\"agg.inc\") + sqft + Q(\"col.grad\") + com60 + {var}'\n",
        "    model_D_temp = smf.ols(formula=formula, data=df_train)\n",
        "    model_D_temp_fit = model_D_temp.fit()\n",
        "\n",
        "    # Training R²\n",
        "    R2_train_temp = model_D_temp_fit.rsquared\n",
        "\n",
        "    # Test R²\n",
        "    y_test_pred_temp = model_D_temp_fit.predict(df_test)\n",
        "    SSE_temp = np.sum((y_test - y_test_pred_temp)**2)\n",
        "    R2_test_temp = 1 - SSE_temp/SST\n",
        "\n",
        "    # Total predicted profitability\n",
        "    total_profit_temp = y_test_pred_temp.sum()\n",
        "\n",
        "    # Store results\n",
        "    results_D[var] = {\n",
        "        'R2_train': R2_train_temp,\n",
        "        'R2_test': R2_test_temp,\n",
        "        'total_profit': total_profit_temp,\n",
        "        'model_fit': model_D_temp_fit\n",
        "    }\n",
        "\n",
        "    print(f\"Training R²: {R2_train_temp:.4f}\")\n",
        "    print(f\"Test R²: {R2_test_temp:.4f}\")\n",
        "    print(f\"Total Predicted Profit (test): ${total_profit_temp:,.0f}\")\n",
        "    print(f\"Improves Test R² vs Model A? {R2_test_temp > R2_test_A}\")\n",
        "    print(f\"Total Profit ≥ $40M? {total_profit_temp >= 40000000}\")\n"
      ],
      "metadata": {
        "colab": {
          "base_uri": "https://localhost:8080/"
        },
        "id": "fvZ_6gqbFnSJ",
        "outputId": "786af5ff-74da-4b45-d62d-2a66a9cdc68a"
      },
      "execution_count": null,
      "outputs": [
        {
          "output_type": "stream",
          "name": "stdout",
          "text": [
            "\n",
            "--- Testing: Original 4 + lci ---\n",
            "Training R²: 0.7968\n",
            "Test R²: 0.7670\n",
            "Total Predicted Profit (test): $66,551,055\n",
            "Improves Test R² vs Model A? True\n",
            "Total Profit ≥ $40M? True\n",
            "\n",
            "--- Testing: Original 4 + nearcomp ---\n",
            "Training R²: 0.8179\n",
            "Test R²: 0.7703\n",
            "Total Predicted Profit (test): $65,322,879\n",
            "Improves Test R² vs Model A? True\n",
            "Total Profit ≥ $40M? True\n",
            "\n",
            "--- Testing: Original 4 + nearmil ---\n",
            "Training R²: 0.7997\n",
            "Test R²: 0.7161\n",
            "Total Predicted Profit (test): $70,640,126\n",
            "Improves Test R² vs Model A? False\n",
            "Total Profit ≥ $40M? True\n",
            "\n",
            "--- Testing: Original 4 + freestand ---\n",
            "Training R²: 0.8916\n",
            "Test R²: 0.8188\n",
            "Total Predicted Profit (test): $67,670,777\n",
            "Improves Test R² vs Model A? True\n",
            "Total Profit ≥ $40M? True\n"
          ]
        }
      ]
    },
    {
      "cell_type": "markdown",
      "source": [
        "a) For Model D, the varibale I added is freestand. While fresstand, lci, and nearcomp all meet the criteria of improving Test R² from Model A 0.7201, and meets profit requirement >$40M, freestand has the highest R² with 0.8188. The improvment is important, of +9.87%pts in Test R²."
      ],
      "metadata": {
        "id": "vIBhYmcTHNUA"
      }
    },
    {
      "cell_type": "code",
      "source": [
        "# Model D Original 4 + freestand\n",
        "model_D = smf.ols(formula='Q(\"annual.profit\") ~ Q(\"agg.inc\") + sqft + Q(\"col.grad\") + com60 + freestand', data=df_train)\n",
        "model_D_fit = model_D.fit()\n"
      ],
      "metadata": {
        "id": "LipWmgF6KPNk"
      },
      "execution_count": null,
      "outputs": []
    },
    {
      "cell_type": "markdown",
      "source": [
        "### b) Training R2, Test R2 and predict profitability for NEW potential locations for each model"
      ],
      "metadata": {
        "id": "S8f0xqopOkvd"
      }
    },
    {
      "cell_type": "code",
      "source": [
        "# ==========================================\n",
        "# Model A: Print Training R² and Test R²\n",
        "# Print Training R² and Test R²\n",
        "print(f\"\\nModel A Training R²: {R2_train_A:.4f}\")\n",
        "print(f\"Model A Test R²: {R2_test_A:.4f}\")\n",
        "\n",
        "# Print overfitting gap\n",
        "print(f\"Overfitting gap: {R2_train_A - R2_test_A:.4f}\")\n",
        "\n",
        "# Total predicted profitability for the 48 construction sites\n",
        "y_const_pred_A = model_A_fit.predict(df_const)\n",
        "total_profit_const_A = y_const_pred_A.sum()\n",
        "print(f\"Model A Total Predicted Profit construction sites (in millions): ${total_profit_const_A/1000000:.2f}M\")\n",
        "\n",
        "\n",
        "# ==========================================\n",
        "# Model B: Calculate and print Training R² and Test R²\n",
        "# Training R²\n",
        "R2_train_B = model_B_fit.rsquared\n",
        "print(f\"\\nModel B Training R²: {R2_train_B:.4f}\")\n",
        "\n",
        "# Test R²\n",
        "y_test_pred_B = model_B_fit.predict(df_test)\n",
        "SSE_B = np.sum((y_test - y_test_pred_B)**2)\n",
        "R2_test_B = 1 - SSE_B/SST\n",
        "print(f\"Model B Test R²: {R2_test_B:.4f}\")\n",
        "\n",
        "# Print overfitting gap\n",
        "print(f\"Overfitting gap: {R2_train_B - R2_test_B:.4f}\")\n",
        "\n",
        "# Total predicted profitability for the 48 construction sites\n",
        "y_const_pred_B = model_B_fit.predict(df_const)\n",
        "total_profit_const_B = y_const_pred_B.sum()\n",
        "print(f\"Model B Total Predicted Profit construction sites (in millions): ${total_profit_const_B/1000000:.2f}M\")\n",
        "\n",
        "# ==========================================\n",
        "# MODEL C: Calculate and print Training R² and Test R²\n",
        "# Training R²\n",
        "R2_train_C = model_C_fit.rsquared\n",
        "print(f\"\\nModel C Training R²: {R2_train_C:.4f}\")\n",
        "\n",
        "# Test R²\n",
        "y_test_pred_C = model_C_fit.predict(df_test)\n",
        "SSE_C = np.sum((y_test - y_test_pred_C)**2)\n",
        "R2_test_C = 1 - SSE_C/SST\n",
        "print(f\"Model C Test R²: {R2_test_C:.4f}\")\n",
        "\n",
        "# Print overfitting gap\n",
        "print(f\"Overfitting gap: {R2_train_C - R2_test_C:.4f}\")\n",
        "\n",
        "# Total predicted profitability for the 48 construction sites\n",
        "y_const_pred_C = model_C_fit.predict(df_const)\n",
        "total_profit_const_C = y_const_pred_C.sum()\n",
        "print(f\"Model C Total Predicted Profit construction sites (in millions): ${total_profit_const_C/1000000:.2f}M\")\n",
        "\n",
        "# ==========================================\n",
        "# MODEL D: Calculate and print Training R² and Test R²\n",
        "# Training R²\n",
        "R2_train_D = model_D_fit.rsquared\n",
        "print(f\"\\nModel D Training R²: {R2_train_D:.4f}\")\n",
        "\n",
        "# Test R²\n",
        "y_test_pred_D = model_D_fit.predict(df_test)\n",
        "SSE_D = np.sum((y_test - y_test_pred_D)**2)\n",
        "R2_test_D = 1 - SSE_D/SST\n",
        "print(f\"Model D Test R²: {R2_test_D:.4f}\")\n",
        "\n",
        "# Print overfitting gap\n",
        "print(f\"Overfitting gap: {R2_train_D - R2_test_D:.4f}\")\n",
        "\n",
        "# Total predicted profitability for the 48 construction sites\n",
        "y_const_pred_D = model_D_fit.predict(df_const)\n",
        "total_profit_const_D = y_const_pred_D.sum()\n",
        "print(f\"Model D Total Predicted Profit construction sites (in millions): ${total_profit_const_D/1000000:.2f}M\")\n",
        "\n"
      ],
      "metadata": {
        "colab": {
          "base_uri": "https://localhost:8080/"
        },
        "id": "VNBCdJ07FOtx",
        "outputId": "49344a8e-98bb-4a51-9513-d9cc7f623b6a"
      },
      "execution_count": null,
      "outputs": [
        {
          "output_type": "stream",
          "name": "stdout",
          "text": [
            "\n",
            "Model A Training R²: 0.7861\n",
            "Model A Test R²: 0.7201\n",
            "Overfitting gap: 0.0660\n",
            "Model A Total Predicted Profit construction sites (in millions): $40.02M\n",
            "\n",
            "Model B Training R²: 0.9179\n",
            "Model B Test R²: 0.8272\n",
            "Overfitting gap: 0.0908\n",
            "Model B Total Predicted Profit construction sites (in millions): $36.06M\n",
            "\n",
            "Model C Training R²: 0.9177\n",
            "Model C Test R²: 0.8420\n",
            "Overfitting gap: 0.0757\n",
            "Model C Total Predicted Profit construction sites (in millions): $36.29M\n",
            "\n",
            "Model D Training R²: 0.8916\n",
            "Model D Test R²: 0.8188\n",
            "Overfitting gap: 0.0728\n",
            "Model D Total Predicted Profit construction sites (in millions): $37.33M\n"
          ]
        }
      ]
    },
    {
      "cell_type": "markdown",
      "source": [
        "* Model A: Lowest accuracy but most conservative (least overfit with 0.066)\n",
        "* Mobel B: Highest training score but larger overfit than others (0.091). Also, the lowest profit projection with $36.06M.\n",
        "* Model C: Highest test R2 so the model generalized well to new, unseen data. With also a high training r2\n",
        "* Model D: Good balance between fit and generalization. Closest to the $40M target (only $2.67M below target).\n",
        "\n",
        "\n",
        "Model C best Statistical Model, and Model A only model meeting target, but with the least reliable.\n"
      ],
      "metadata": {
        "id": "spAhaVN62y5j"
      }
    },
    {
      "cell_type": "code",
      "source": [],
      "metadata": {
        "id": "L6_p1wQ22yPc"
      },
      "execution_count": null,
      "outputs": []
    },
    {
      "cell_type": "markdown",
      "source": [
        "##Question 9\n",
        "### Model Recommended: Model D"
      ],
      "metadata": {
        "id": "DE0hlEEHxRyt"
      }
    },
    {
      "cell_type": "markdown",
      "source": [
        "Model A is the only model meeting the \\$40M profit target, but has the lowest test R² (0.72), explaining only 72% of variance in unseen data compared to over 80% for other models. Selecting a weaker model solely to meet the \\$40M expectation would be professionally questionable and could expose BVA to liability if Harriman Capital relies on inflated projections. The comparison between models would clearly reveal Model A's weakness, damaging both BVA's and Milagro's credibility.\n",
        "\n",
        "Models B and C demonstrate the highest predictive accuracy. However, Model B includes many variables of limited statistical significance, making it unnecessarily complex and harder to interpret.\n",
        "\n",
        "**I recommend Model D to Harriman Capital**. While Model C achieves the best predictive performance (test R² = 0.842), Model D offers strong predictive accuracy (test R² = 0.819, approximately 10 percentage points higher than Model A) with less overfitting than Model C. Model D introduces only one additional variable—\"freestand\"—which is highly statistically significant (t-statistic = 17.67, p < 0.001) with an estimated impact of approximately \\$365K per site. Model D also predicts \\$37.33M, closest to the \\$40M target among the high-accuracy models.\n",
        "\n",
        "**Business Risks:**\n",
        "\n",
        "1. **Choosing Model A**: While meeting the \\$40M target, its lower predictive accuracy creates significant risk of overestimating profitability by \\$3-4M. If stores underperform, Harriman Capital could pursue legal action against BVA and Milagro for misrepresentation, damaging both firms' reputations.\n",
        "\n",
        "2. **Choosing Model C/D**: Predicting \\$37.3M (Model D) or \\$36.3M (Model C) may jeopardize the deal, as Milagro's investors committed based on the \\$40M projection. However, this risk can be mitigated through strategic site selection and transparent communication about model improvements.\n",
        "\n",
        "BVA should emphasize that Model D's superior accuracy enables strategic optimization. By selectively building the highest-performing sites (if feasible), Milagro could exceed \\$40M with greater confidence than building all 48 sites using less reliable projections. Prioritizing a model that better predicts future outcomes reduces the risk of overestimating profitability and making poor investment decisions."
      ],
      "metadata": {
        "id": "AmEW64MdSzZU"
      }
    }
  ]
}